{
 "cells": [
  {
   "cell_type": "markdown",
   "metadata": {},
   "source": [
    "# Analyzing GROMACS data with freud and MDTraj: Computing an RDF for Water\n",
    "\n",
    "In this notebook, we demonstrate how `freud` could be used to compute the RDF of the output of an atomistic simulation, namely the simulation of TIP4P water.\n",
    "In the process, we show how the subsetting functionality of such tools can be leveraged to feed data into `freud`.\n",
    "We use this example to also demonstrate how this functionality can be replicated with pure NumPy and explain why this usage pattern is sufficient for common use-cases of `freud`.\n",
    "The simulation data is read with [MDTraj](http://mdtraj.org/) and the results are compared for the same RDF calculation with `freud` and MDTraj."
   ]
  },
  {
   "cell_type": "markdown",
   "metadata": {},
   "source": [
    "## Simulating water\n",
    "\n",
    "To run this notebook, we have generated data of a simulation of TIP4P using [GROMACS](http://www.gromacs.org/).\n",
    "All of the scripts used to generate this data are provided in this repository, and for convenience the final output files are also saved."
   ]
  },
  {
   "cell_type": "code",
   "execution_count": 1,
   "metadata": {},
   "outputs": [],
   "source": [
    "import freud\n",
    "import mdtraj\n",
    "import numpy as np\n",
    "\n",
    "traj = mdtraj.load_xtc(\"output/prd.xtc\", top=\"output/prd.gro\")\n",
    "bins = 300\n",
    "r_max = 1\n",
    "r_min = 0.01\n",
    "\n",
    "# Expression selection, a common feature of analysis tools for\n",
    "# atomistic systems, can be used to identify all oxygen atoms\n",
    "oxygen_pairs = traj.top.select_pairs(\"name O\", \"name O\")\n",
    "\n",
    "mdtraj_rdf = mdtraj.compute_rdf(traj, oxygen_pairs, (r_min, r_max), n_bins=bins)\n",
    "\n",
    "# We can directly use the above selection in freud.\n",
    "oxygen_indices = traj.top.select(\"name O\")\n",
    "\n",
    "# Alternatively, we can subset directly using Python logic. Such\n",
    "# selectors require the user to define the nature of the selection,\n",
    "# but can be more precisely tailored to a specific system.\n",
    "oxygen_indices = [atom.index for atom in traj.top.atoms if atom.name == \"O\"]\n",
    "\n",
    "freud_rdf = freud.density.RDF(bins=bins, r_min=r_min, r_max=r_max)\n",
    "for system in zip(np.asarray(traj.unitcell_vectors), traj.xyz[:, oxygen_indices, :]):\n",
    "    freud_rdf.compute(system, reset=False)"
   ]
  },
  {
   "cell_type": "code",
   "execution_count": 2,
   "metadata": {},
   "outputs": [],
   "source": [
    "from matplotlib import pyplot as plt"
   ]
  },
  {
   "cell_type": "code",
   "execution_count": 3,
   "metadata": {},
   "outputs": [],
   "source": [
    "%matplotlib inline"
   ]
  },
  {
   "cell_type": "code",
   "execution_count": 4,
   "metadata": {},
   "outputs": [
    {
     "data": {
      "text/plain": [
       "<matplotlib.legend.Legend at 0x7fb10d1898e0>"
      ]
     },
     "execution_count": 4,
     "metadata": {},
     "output_type": "execute_result"
    },
    {
     "data": {
      "image/png": "[encoded data removed]",
      "text/plain": [
       "<Figure size 432x288 with 1 Axes>"
      ]
     },
     "metadata": {
      "needs_background": "light"
     },
     "output_type": "display_data"
    }
   ],
   "source": [
    "fig, ax = plt.subplots()\n",
    "ax.plot(freud_rdf.bin_centers, freud_rdf.rdf, \"o\", label=\"freud\", alpha=0.5)\n",
    "ax.plot(*mdtraj_rdf, \"x\", label=\"mdtraj\", alpha=0.5)\n",
    "ax.set_xlabel(\"$r$\")\n",
    "ax.set_ylabel(\"$g(r)$\")\n",
    "ax.set_title(\"RDF\")\n",
    "ax.legend()"
   ]
  }
 ],
 "metadata": {
  "kernelspec": {
   "display_name": "Python 3",
   "language": "python",
   "name": "python3"
  },
  "language_info": {
   "codemirror_mode": {
    "name": "ipython",
    "version": 3
   },
   "file_extension": ".py",
   "mimetype": "text/x-python",
   "name": "python",
   "nbconvert_exporter": "python",
   "pygments_lexer": "ipython3",
   "version": "3.8.0"
  }
 },
 "nbformat": 4,
 "nbformat_minor": 4
}
