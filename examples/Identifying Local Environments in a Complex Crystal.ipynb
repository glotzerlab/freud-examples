{
 "cells": [
  {
   "cell_type": "markdown",
   "id": "973dd440",
   "metadata": {},
   "source": [
    "This notebook shows how to use `freud`'s `EnvironmentCluster` class for searching for unique local environments in a complex crystal, $\\gamma$-Brass.\n",
    "\n",
    "See https://www.nature.com/articles/s41467-018-07977-2 for more sophisticated examples of using this environment detection scheme and the definition of a local environment (in the Supplementary Information)"
   ]
  },
  {
   "cell_type": "markdown",
   "id": "97c174d6",
   "metadata": {},
   "source": [
    "Prior knowledge of the structure of interest is necessary for selecting parameters and interpreting the results. For example, the $\\gamma$-Brass conventional unit cell has 52 particles (26 in primitive cell) and 4 unique Wyckoff sites. The particles in one unit cell may have different number of nearest neighbors (coordination number)."
   ]
  },
  {
   "cell_type": "code",
   "execution_count": null,
   "id": "f315420e",
   "metadata": {},
   "outputs": [],
   "source": [
    "from time import time\n",
    "\n",
    "import freud\n",
    "import matplotlib as mpl\n",
    "import numpy as np\n",
    "from matplotlib import pyplot as plt"
   ]
  },
  {
   "cell_type": "code",
   "execution_count": null,
   "id": "60b661f6",
   "metadata": {},
   "outputs": [],
   "source": [
    "# Generate a perfect gamma-Brass crystal using its conventional unit cell\n",
    "a = 2\n",
    "unit_cell = [a, a, a, 0, 0, 0]\n",
    "basis_positions = [\n",
    "    [-0.67226005, -0.67226005, -0.67226005],\n",
    "    [-0.67226005, -0.32773998, -0.32773998],\n",
    "    [-0.32773998, -0.32773998, -0.67226005],\n",
    "    [-0.32773998, -0.67226005, -0.32773998],\n",
    "    [-0.17225999, -0.17225999, -0.17225999],\n",
    "    [-0.17225999, -0.82774, -0.82774],\n",
    "    [-0.82774, -0.82774, -0.17225999],\n",
    "    [-0.82774, -0.17225999, -0.82774],\n",
    "    [-0.89219, -0.89219, -0.89219],\n",
    "    [-0.89219, -0.10780999, -0.10780999],\n",
    "    [-0.10780999, -0.10780999, -0.89219],\n",
    "    [-0.10780999, -0.89219, -0.10780999],\n",
    "    [-0.39218998, -0.39218998, -0.39218998],\n",
    "    [-0.39218998, -0.60781, -0.60781],\n",
    "    [-0.60781, -0.60781, -0.39218998],\n",
    "    [-0.60781, -0.39218998, -0.60781],\n",
    "    [-0.64421, -1.0, -1.0],\n",
    "    [-1.0, -0.35579, -1.0],\n",
    "    [-0.35579, -1.0, -1.0],\n",
    "    [-1.0, -0.64421, -1.0],\n",
    "    [-1.0, -1.0, -0.35579],\n",
    "    [-1.0, -1.0, -0.64421],\n",
    "    [-0.14420998, -0.5, -0.5],\n",
    "    [-0.5, -0.85579, -0.5],\n",
    "    [-0.85579, -0.5, -0.5],\n",
    "    [-0.5, -0.14420998, -0.5],\n",
    "    [-0.5, -0.5, -0.85579],\n",
    "    [-0.5, -0.5, -0.14420998],\n",
    "    [-0.68844, -0.68844, -0.96326005],\n",
    "    [-0.68844, -0.31155998, -0.03673998],\n",
    "    [-0.31155998, -0.31155998, -0.96326005],\n",
    "    [-0.31155998, -0.68844, -0.03673998],\n",
    "    [-0.96326005, -0.68844, -0.68844],\n",
    "    [-0.03673998, -0.68844, -0.31155998],\n",
    "    [-0.96326005, -0.31155998, -0.31155998],\n",
    "    [-0.03673998, -0.31155998, -0.68844],\n",
    "    [-0.68844, -0.03673998, -0.31155998],\n",
    "    [-0.68844, -0.96326005, -0.68844],\n",
    "    [-0.31155998, -0.03673998, -0.68844],\n",
    "    [-0.31155998, -0.96326005, -0.31155998],\n",
    "    [-0.18844, -0.18844, -0.46326],\n",
    "    [-0.18844, -0.81156003, -0.53674],\n",
    "    [-0.81156003, -0.81156003, -0.46326],\n",
    "    [-0.81156003, -0.18844, -0.53674],\n",
    "    [-0.46326, -0.18844, -0.18844],\n",
    "    [-0.53674, -0.18844, -0.81156003],\n",
    "    [-0.46326, -0.81156003, -0.81156003],\n",
    "    [-0.53674, -0.81156003, -0.18844],\n",
    "    [-0.18844, -0.53674, -0.81156003],\n",
    "    [-0.18844, -0.46326, -0.18844],\n",
    "    [-0.81156003, -0.53674, -0.18844],\n",
    "    [-0.81156003, -0.46326, -0.81156003],\n",
    "]\n",
    "uc = freud.data.UnitCell(box=unit_cell, basis_positions=basis_positions)\n",
    "n = 2\n",
    "noise = 0.0\n",
    "gb_lattice = uc.generate_system(n, sigma_noise=noise)"
   ]
  },
  {
   "cell_type": "code",
   "execution_count": null,
   "id": "a56bb07b",
   "metadata": {},
   "outputs": [],
   "source": [
    "# Plot the rdf for determining the parameters\n",
    "\n",
    "r_min = 0\n",
    "r_max = a / 2\n",
    "nbins = 200\n",
    "\n",
    "box, points = gb_lattice\n",
    "print(f\"The gb lattice has {len(points)} particles\")\n",
    "rdf = freud.density.RDF(bins=nbins, r_max=r_max, r_min=r_min)\n",
    "rdf.compute((box, points))\n",
    "\n",
    "fig, ax = plt.subplots()\n",
    "ax.plot(np.linspace(r_min, r_max, nbins), rdf.rdf)\n",
    "ax.set_xlabel(\"r\")\n",
    "ax.set_ylabel(\"g(r)\")\n",
    "plt.vlines(0.68, 0, max(rdf.rdf), colors=\"C1\")\n",
    "plt.show()"
   ]
  },
  {
   "cell_type": "markdown",
   "id": "2e50a9e1",
   "metadata": {},
   "source": [
    "Notice that the first well appears at around r = 0.68. We use this as the cut off radius for `env_neighbor`. We do not use `num_neighbors` here for `env_neighbor` because as mentioned above, the particles in the $\\gamma$-Brass structure may have different coordination numbers, unlike particles in simpler crystals such as BCC (coordination number = 8)."
   ]
  },
  {
   "cell_type": "markdown",
   "id": "c5e6edd8",
   "metadata": {},
   "source": [
    "For the `neighbor` parameter, which specifies the number of neighbors the environment cluster of each particle will be compared against with, we choose arbitrarily `{'num_neighbors': 20}` because we set `global_search=True`. When `global_search=True`, the neighbor list provided to `neighbor` is ignored and environments of every single pair of particles in the system are compared. Since this system contains only 416 particles, the search does not slow down the computation significantly."
   ]
  },
  {
   "cell_type": "code",
   "execution_count": null,
   "id": "9935a779",
   "metadata": {},
   "outputs": [],
   "source": [
    "t0 = time()\n",
    "first_well = 0.68\n",
    "env_cluster = freud.environment.EnvironmentCluster()\n",
    "\n",
    "threshold = 0.2 * first_well\n",
    "neighbor = {\"num_neighbors\": 20}\n",
    "env_neighbor = {\"r_max\": first_well}\n",
    "\n",
    "env_cluster.compute(\n",
    "    (box, points),\n",
    "    threshold=threshold,\n",
    "    neighbors=neighbor,\n",
    "    env_neighbors=env_neighbor,\n",
    "    registration=False,\n",
    "    global_search=True,\n",
    ")\n",
    "\n",
    "t1 = time()\n",
    "print(f\"Total time spent: {t1 - t0} s\")\n",
    "\n",
    "fig, ax = plt.subplots()\n",
    "ax.hist(\n",
    "    env_cluster.cluster_idx,\n",
    "    bins=range(env_cluster.num_clusters + 1),\n",
    "    align=\"left\",\n",
    "    rwidth=0.3,\n",
    ")\n",
    "ax.set_xlabel(\"Cluster keys\")\n",
    "ax.set_ylabel(\"Number of particles\")\n",
    "plt.title(\"Cluster Frequency\")\n",
    "plt.show()"
   ]
  },
  {
   "cell_type": "markdown",
   "id": "5dd311c4",
   "metadata": {},
   "source": [
    "From the figure above, we can see that 26 different clusters were found, with each containing 16 particles. Next we try with `registration=True`, which means that clusters differ only by orientation will be classified as one type of cluster. "
   ]
  },
  {
   "cell_type": "code",
   "execution_count": null,
   "id": "4dfca57c",
   "metadata": {},
   "outputs": [],
   "source": [
    "t0 = time()\n",
    "first_well = 0.68\n",
    "env_cluster = freud.environment.EnvironmentCluster()\n",
    "\n",
    "threshold = 0.2 * first_well\n",
    "neighbor = {\"num_neighbors\": 20}\n",
    "env_neighbor = {\"r_max\": first_well}\n",
    "\n",
    "env_cluster.compute(\n",
    "    (box, points),\n",
    "    threshold=threshold,\n",
    "    neighbors=neighbor,\n",
    "    env_neighbors=env_neighbor,\n",
    "    registration=True,\n",
    "    global_search=True,\n",
    ")\n",
    "\n",
    "t1 = time()\n",
    "print(f\"Total time spent: {t1 - t0} s\")\n",
    "\n",
    "fig, ax = plt.subplots()\n",
    "ax.hist(\n",
    "    env_cluster.cluster_idx,\n",
    "    bins=range(env_cluster.num_clusters + 1),\n",
    "    align=\"left\",\n",
    "    rwidth=0.3,\n",
    ")\n",
    "ax.set_xlabel(\"Cluster keys\")\n",
    "ax.set_ylabel(\"Number of particles\")\n",
    "plt.title(\"Cluster Frequency\")\n",
    "plt.show()"
   ]
  },
  {
   "cell_type": "markdown",
   "id": "29b42f4d",
   "metadata": {},
   "source": [
    "Next we plot the number of particles that make up a cluster."
   ]
  },
  {
   "cell_type": "code",
   "execution_count": null,
   "id": "25ef62bf",
   "metadata": {},
   "outputs": [],
   "source": [
    "num_particles_list = []\n",
    "for i in range(env_cluster.num_clusters):\n",
    "    num_particles = 0\n",
    "    for vector in env_cluster.cluster_environments[i]:\n",
    "        if np.power(vector, 2).sum() > 0:\n",
    "            num_particles += 1\n",
    "    num_particles_list.append(num_particles)"
   ]
  },
  {
   "cell_type": "code",
   "execution_count": null,
   "id": "22a8a95e",
   "metadata": {},
   "outputs": [],
   "source": [
    "fig, ax = plt.subplots()\n",
    "ax.scatter(range(0, env_cluster.num_clusters, 1), num_particles_list)\n",
    "ax.set_xlabel(\"Cluster keys\")\n",
    "ax.set_ylabel(\"Number of environment neighbors\")\n",
    "plt.show()"
   ]
  },
  {
   "cell_type": "markdown",
   "id": "48729e4e",
   "metadata": {},
   "source": [
    "From the figure above, we can see that indeed the particles have different coordination numbers."
   ]
  },
  {
   "cell_type": "code",
   "execution_count": null,
   "id": "32c69064",
   "metadata": {},
   "outputs": [],
   "source": [
    "# Run this and visualize with fresnel, or just insert figures\n",
    "import gsd.hoomd\n",
    "\n",
    "name = \"gb\"\n",
    "typeid = env_cluster.cluster_idx.copy()\n",
    "snapshot = gsd.hoomd.Snapshot()\n",
    "snapshot.particles.N = np.shape(points)[0]\n",
    "snapshot.particles.position = points\n",
    "snapshot.particles.types = [str(i) for i in np.unique(typeid)]\n",
    "snapshot.particles.typeid = typeid\n",
    "snapshot.particles.diameter = [1.0] * np.shape(points)[0]\n",
    "snapshot.configuration.box = [box.Lx, box.Ly, box.Lz, box.xy, box.xz, box.yz]\n",
    "with gsd.hoomd.open(f\"{name}_lattice.gsd\", mode=\"wb\") as f:\n",
    "    f.append(snapshot)"
   ]
  },
  {
   "cell_type": "code",
   "execution_count": null,
   "id": "516c30f3",
   "metadata": {},
   "outputs": [],
   "source": []
  }
 ],
 "metadata": {
  "kernelspec": {
   "display_name": "Python 3 (ipykernel)",
   "language": "python",
   "name": "python3"
  },
  "language_info": {
   "codemirror_mode": {
    "name": "ipython",
    "version": 3
   },
   "file_extension": ".py",
   "mimetype": "text/x-python",
   "name": "python",
   "nbconvert_exporter": "python",
   "pygments_lexer": "ipython3",
   "version": "3.9.12"
  }
 },
 "nbformat": 4,
 "nbformat_minor": 5
}
