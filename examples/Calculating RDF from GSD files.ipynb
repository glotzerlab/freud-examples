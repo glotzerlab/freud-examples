{
 "cells": [
  {
   "cell_type": "markdown",
   "metadata": {},
   "source": [
    "# Calculating the Radial Distribution Function (RDF) from Simulation Data\n",
    "\n",
    "This tutorial will show how to calculate the radial distribution function (RDF) $g(r)$ between specific atom types, excluding intramolecular correlations. The file type used in the example is a [GSD](https://gsd.readthedocs.io/) file, but the methods for filtering the neighbor list can be applied to other simulation data types."
   ]
  },
  {
   "cell_type": "code",
   "execution_count": 1,
   "metadata": {},
   "outputs": [],
   "source": [
    "import freud\n",
    "import gsd.hoomd\n",
    "import matplotlib.pyplot as plt\n",
    "import numpy as np"
   ]
  },
  {
   "cell_type": "markdown",
   "metadata": {},
   "source": [
    "For convenience, we'll define two functions: `snap_molecule_indices` which will help us determine which particle indices are in which molecule and `intermolecular_rdf` which will compute the RDF from our gsd file."
   ]
  },
  {
   "cell_type": "code",
   "execution_count": 2,
   "metadata": {},
   "outputs": [],
   "source": [
    "def snap_molecule_indices(snap):\n",
    "    \"\"\"Find molecule index for each particle.\n",
    "\n",
    "    Given a snapshot from a trajectory, compute clusters of bonded molecules\n",
    "    and return an array of the molecule index of each particle.\n",
    "\n",
    "    Parameters\n",
    "    ----------\n",
    "    snap : gsd.hoomd.Snapshot\n",
    "        Trajectory snapshot.\n",
    "\n",
    "    Returns\n",
    "    -------\n",
    "    numpy array (N_particles,)\n",
    "\n",
    "    \"\"\"\n",
    "    system = freud.AABBQuery.from_system(snap)\n",
    "    num_query_points = num_points = snap.particles.N\n",
    "    query_point_indices = snap.bonds.group[:, 0]\n",
    "    point_indices = snap.bonds.group[:, 1]\n",
    "    distances = system.box.compute_distances(\n",
    "        system.points[query_point_indices], system.points[point_indices]\n",
    "    )\n",
    "    nlist = freud.NeighborList.from_arrays(\n",
    "        num_query_points, num_points, query_point_indices, point_indices, distances\n",
    "    )\n",
    "    cluster = freud.cluster.Cluster()\n",
    "    cluster.compute(system=system, neighbors=nlist)\n",
    "    return cluster.cluster_idx\n",
    "\n",
    "\n",
    "def intermolecular_rdf(\n",
    "    gsdfile,\n",
    "    A_name,\n",
    "    B_name,\n",
    "    start=0,\n",
    "    stop=None,\n",
    "    r_max=None,\n",
    "    r_min=0,\n",
    "    bins=100,\n",
    "    exclude_bonded=True,\n",
    "):\n",
    "    \"\"\"Compute intermolecular RDF from a GSD file.\n",
    "\n",
    "    This function calculates the radial distribution function given a GSD file\n",
    "    and the names of the particle types. By default it will calculate the RDF\n",
    "    for the entire trajectory.\n",
    "\n",
    "    It is assumed that the bonding, number of particles, and simulation box do\n",
    "    not change during the simulation.\n",
    "\n",
    "    Parameters\n",
    "    ----------\n",
    "    gsdfile : str\n",
    "        Filename of the GSD trajectory.\n",
    "    A_name, B_name : str\n",
    "        Name(s) of particles between which to calculate the RDF (found in\n",
    "        gsd.hoomd.Snapshot.particles.types)\n",
    "    start : int\n",
    "        Starting frame index for accumulating the RDF. Negative numbers index\n",
    "        from the end. (Default value = 0)\n",
    "    stop : int\n",
    "        Final frame index for accumulating the RDF. If None, the last frame\n",
    "        will be used. (Default value = None)\n",
    "    r_max : float\n",
    "        Maximum radius of RDF. If None, half of the maximum box size is used.\n",
    "        (Default value = None)\n",
    "    r_min : float\n",
    "        Minimum radius of RDF. (Default value = 0)\n",
    "    bins : int\n",
    "        Number of bins to use when calculating the RDF. (Default value = 100)\n",
    "    exclude_bonded : bool\n",
    "        Whether to remove particles in same molecule from the neighbor list.\n",
    "        (Default value = True)\n",
    "\n",
    "    Returns\n",
    "    -------\n",
    "    freud.density.RDF\n",
    "    \"\"\"\n",
    "    with gsd.hoomd.open(gsdfile) as trajectory:\n",
    "        snap = trajectory[0]\n",
    "\n",
    "        if r_max is None:\n",
    "            # Use a value just less than half the maximum box length.\n",
    "            r_max = np.nextafter(\n",
    "                np.max(snap.configuration.box[:3]) * 0.5, 0, dtype=np.float32\n",
    "            )\n",
    "\n",
    "        rdf = freud.density.RDF(bins=bins, r_max=r_max, r_min=r_min)\n",
    "\n",
    "        type_A = snap.particles.typeid == snap.particles.types.index(A_name)\n",
    "        type_B = snap.particles.typeid == snap.particles.types.index(B_name)\n",
    "\n",
    "        if exclude_bonded:\n",
    "            molecules = snap_molecule_indices(snap)\n",
    "            molecules_A = molecules[type_A]\n",
    "            molecules_B = molecules[type_B]\n",
    "\n",
    "        for snap in trajectory[start:stop]:\n",
    "\n",
    "            A_pos = snap.particles.position[type_A]\n",
    "            if A_name == B_name:\n",
    "                B_pos = A_pos\n",
    "                exclude_ii = True\n",
    "            else:\n",
    "                B_pos = snap.particles.position[type_B]\n",
    "                exclude_ii = False\n",
    "\n",
    "            box = snap.configuration.box\n",
    "            system = (box, A_pos)\n",
    "            aq = freud.locality.AABBQuery.from_system(system)\n",
    "            nlist = aq.query(\n",
    "                B_pos, {\"r_max\": r_max, \"exclude_ii\": exclude_ii}\n",
    "            ).toNeighborList()\n",
    "\n",
    "            if exclude_bonded:\n",
    "                pre_filter = len(nlist)\n",
    "                indices_A = molecules_A[nlist.point_indices]\n",
    "                indices_B = molecules_B[nlist.query_point_indices]\n",
    "                nlist.filter(indices_A != indices_B)\n",
    "                post_filter = len(nlist)\n",
    "\n",
    "            rdf.compute(aq, neighbors=nlist, reset=False)\n",
    "        normalization = post_filter / pre_filter if exclude_bonded else 1\n",
    "        return rdf, normalization"
   ]
  },
  {
   "cell_type": "markdown",
   "metadata": {},
   "source": [
    "In the following example, we'll look at a simulation of PTB7 polymer. Here is the chemical structure of the PTB7 monomer:\n",
    "\n",
    "![data/ptb7.png](data/ptb7.png)\n",
    "\n",
    "We're going to look at the correlation between the sulfur atoms (atom type \"ss\"), but notice that ptb7 has multiple sulfur atoms in it which are held in place by bonds. We wouldn't expect the distances between these intramolecular sulfur atoms to change much based on the thermodynamic state of the simulation.\n",
    "\n",
    "Let's see what our sulfur-sulfur RDF looks like if we _do not_ exclude intramolecular interactions."
   ]
  },
  {
   "cell_type": "code",
   "execution_count": 3,
   "metadata": {},
   "outputs": [],
   "source": [
    "gsdfile = \"data/ptb7-5mers.gsd\"\n",
    "A_name = \"ss\"\n",
    "B_name = \"ss\""
   ]
  },
  {
   "cell_type": "code",
   "execution_count": 4,
   "metadata": {},
   "outputs": [
    {
     "name": "stdout",
     "output_type": "stream",
     "text": [
      "CPU times: user 38.6 s, sys: 184 ms, total: 38.8 s\n",
      "Wall time: 2.15 s\n"
     ]
    }
   ],
   "source": [
    "%%time\n",
    "rdf, normalization = intermolecular_rdf(\n",
    "    gsdfile, A_name, B_name, r_max=6, exclude_bonded=False\n",
    ")"
   ]
  },
  {
   "cell_type": "code",
   "execution_count": 5,
   "metadata": {},
   "outputs": [
    {
     "data": {
      "image/png": "[encoded data removed]",
      "text/plain": [
       "<Figure size 432x288 with 1 Axes>"
      ]
     },
     "metadata": {
      "needs_background": "light"
     },
     "output_type": "display_data"
    }
   ],
   "source": [
    "plt.plot(rdf.bin_centers, rdf.rdf * normalization)\n",
    "plt.xlabel(\"r (A.U.)\")\n",
    "plt.ylabel(\"g(r)\")\n",
    "plt.show()"
   ]
  },
  {
   "cell_type": "markdown",
   "metadata": {},
   "source": [
    "We can see that the RDF is dominated by a couple of sharp distinct peaks. By excluding intramolecular correlations from the RDF, we may be able to probe deeper into the phase behavior of the system."
   ]
  },
  {
   "cell_type": "code",
   "execution_count": 6,
   "metadata": {},
   "outputs": [
    {
     "name": "stdout",
     "output_type": "stream",
     "text": [
      "Normalization for bonded pair exclusion: 0.91959\n",
      "CPU times: user 47.7 s, sys: 129 ms, total: 47.8 s\n",
      "Wall time: 13.6 s\n"
     ]
    }
   ],
   "source": [
    "%%time\n",
    "rdf, normalization = intermolecular_rdf(\n",
    "    gsdfile, A_name, B_name, r_max=6, exclude_bonded=True\n",
    ")\n",
    "print(f\"Normalization for bonded pair exclusion: {normalization:.5f}\")"
   ]
  },
  {
   "cell_type": "markdown",
   "metadata": {},
   "source": [
    "Additionally when excluding bonded interactions, a correction to the normalization is needed. This value is returned in the output. This normalization factor accounts for the change in the number of pairs before and after filtering the neighbor list."
   ]
  },
  {
   "cell_type": "code",
   "execution_count": 7,
   "metadata": {},
   "outputs": [
    {
     "data": {
      "image/png": "[encoded data removed]",
      "text/plain": [
       "<Figure size 432x288 with 1 Axes>"
      ]
     },
     "metadata": {
      "needs_background": "light"
     },
     "output_type": "display_data"
    }
   ],
   "source": [
    "plt.plot(rdf.bin_centers, rdf.rdf * normalization)\n",
    "plt.xlabel(\"r (A.U.)\")\n",
    "plt.ylabel(\"g(r)\")\n",
    "plt.show()"
   ]
  },
  {
   "cell_type": "markdown",
   "metadata": {},
   "source": [
    "In this plot we can see smoother, broader peaks. Without the intramolecular sulfur correlation peaks dominating the RDF, we can more easily observe longer distance correlations in the system."
   ]
  }
 ],
 "metadata": {
  "kernelspec": {
   "display_name": "Python 3",
   "language": "python",
   "name": "python3"
  },
  "language_info": {
   "codemirror_mode": {
    "name": "ipython",
    "version": 3
   },
   "file_extension": ".py",
   "mimetype": "text/x-python",
   "name": "python",
   "nbconvert_exporter": "python",
   "pygments_lexer": "ipython3",
   "version": "3.8.3"
  }
 },
 "nbformat": 4,
 "nbformat_minor": 4
}
