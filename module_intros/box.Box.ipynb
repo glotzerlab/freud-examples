{
 "cells": [
  {
   "cell_type": "markdown",
   "metadata": {},
   "source": [
    "# freud.box.Box\n",
    "\n",
    "In this notebook, we demonstrate the basic features of the `Box` class, including wrapping particles back into the box under periodic boundary conditions.\n",
    "For more information, see the [introduction to Periodic Boundary Conditions](https://freud.readthedocs.io/en/stable/tutorial/periodic.html) and the `freud.box` [documentation](https://freud.readthedocs.io/en/stable/box.html)."
   ]
  },
  {
   "cell_type": "markdown",
   "metadata": {},
   "source": [
    "## Creating a Box object\n",
    "\n",
    "Boxes may be constructed explicitly using all arguments.\n",
    "Such construction is useful when performing *ad hoc* analyses involving custom boxes.\n",
    "In general, boxes are assumed to be 3D and [orthorhombic](https://en.wikipedia.org/wiki/Orthorhombic_crystal_system) unless otherwise specified."
   ]
  },
  {
   "cell_type": "code",
   "execution_count": 1,
   "metadata": {},
   "outputs": [],
   "source": [
    "import freud.box\n",
    "\n",
    "# All of the below examples are valid boxes.\n",
    "box = freud.box.Box(Lx=5, Ly=6, Lz=7, xy=0.5, xz=0.6, yz=0.7, is2D=False)\n",
    "box = freud.box.Box(1, 3, 2, 0.3, 0.9)\n",
    "box = freud.box.Box(5, 6, 7)\n",
    "box = freud.box.Box(5, 6, is2D=True)\n",
    "box = freud.box.Box(5, 6, xy=0.5, is2D=True)"
   ]
  },
  {
   "cell_type": "markdown",
   "metadata": {},
   "source": [
    "## From another Box object\n",
    "\n",
    "The simplest case is simply constructing one freud box from another.\n",
    "\n",
    "**Note that all forms of creating boxes aside from the explicit method above use methods defined within the Box class rather than attempting to overload the constructor itself.**"
   ]
  },
  {
   "cell_type": "code",
   "execution_count": 2,
   "metadata": {},
   "outputs": [
    {
     "name": "stdout",
     "output_type": "stream",
     "text": [
      "The original box: \n",
      "\tfreud.box.Box(Lx=1.0, Ly=2.0, Lz=3.0, xy=0.0, xz=0.0, yz=0.0, is2D=False)\n",
      "The copied box: \n",
      "\tfreud.box.Box(Lx=1.0, Ly=2.0, Lz=3.0, xy=0.0, xz=0.0, yz=0.0, is2D=False)\n",
      "\n",
      "The original box is modified: \n",
      "\tfreud.box.Box(Lx=5.0, Ly=2.0, Lz=3.0, xy=0.0, xz=0.0, yz=0.0, is2D=False)\n",
      "The copied box is not: \n",
      "\tfreud.box.Box(Lx=1.0, Ly=2.0, Lz=3.0, xy=0.0, xz=0.0, yz=0.0, is2D=False)\n",
      "\n",
      "The new copy: \n",
      "\tfreud.box.Box(Lx=1.0, Ly=2.0, Lz=3.0, xy=0.0, xz=0.0, yz=0.0, is2D=False)\n",
      "The new copy after the original is modified: \n",
      "\tfreud.box.Box(Lx=2.0, Ly=2.0, Lz=3.0, xy=0.0, xz=0.0, yz=0.0, is2D=False)\n",
      "The modified original box: \n",
      "\tfreud.box.Box(Lx=2.0, Ly=2.0, Lz=3.0, xy=0.0, xz=0.0, yz=0.0, is2D=False)\n"
     ]
    }
   ],
   "source": [
    "box = freud.box.Box(1, 2, 3)\n",
    "box2 = freud.box.Box.from_box(box)\n",
    "print(f\"The original box: \\n\\t{box}\")\n",
    "print(f\"The copied box: \\n\\t{box2}\\n\")\n",
    "\n",
    "# Boxes are always copied by value, not by reference\n",
    "box.Lx = 5\n",
    "print(f\"The original box is modified: \\n\\t{box}\")\n",
    "print(f\"The copied box is not: \\n\\t{box2}\\n\")\n",
    "\n",
    "# Note, however, that box assignment creates a new object that\n",
    "# still points to the original box object, so modifications to\n",
    "# one are visible on the other.\n",
    "box3 = box2\n",
    "print(f\"The new copy: \\n\\t{box3}\")\n",
    "box2.Lx = 2\n",
    "print(f\"The new copy after the original is modified: \\n\\t{box3}\")\n",
    "print(f\"The modified original box: \\n\\t{box2}\")"
   ]
  },
  {
   "cell_type": "markdown",
   "metadata": {},
   "source": [
    "## From a matrix\n",
    "\n",
    "A box can be constructed directly from the box matrix representation described above using the `Box.from_matrix` method."
   ]
  },
  {
   "cell_type": "code",
   "execution_count": 3,
   "metadata": {},
   "outputs": [
    {
     "name": "stdout",
     "output_type": "stream",
     "text": [
      "This is a 3D box from a matrix: \n",
      "\tfreud.box.Box(Lx=1.0, Ly=1.0, Lz=0.5, xy=1.0, xz=0.0, yz=1.0, is2D=False)\n",
      "\n",
      "This is a 2D box from a matrix: \n",
      "\tfreud.box.Box(Lx=1.0, Ly=1.0, Lz=0.0, xy=0.0, xz=0.0, yz=0.0, is2D=True)\n",
      "\n",
      "The box matrix was automatically detected: \n",
      "\tfreud.box.Box(Lx=1.0, Ly=1.0, Lz=0.5, xy=1.0, xz=0.0, yz=1.0, is2D=False)\n",
      "\n",
      "Using a 3x3 numpy array: \n",
      "\tfreud.box.Box(Lx=1.0, Ly=1.0, Lz=0.5, xy=1.0, xz=0.0, yz=1.0, is2D=False)\n"
     ]
    }
   ],
   "source": [
    "# Matrix representation. Note that the box vectors must represent\n",
    "# a right-handed coordinate system! This translates to requiring\n",
    "# that the matrix be upper triangular.\n",
    "box = freud.box.Box.from_matrix([[1, 1, 0], [0, 1, 0.5], [0, 0, 0.5]])\n",
    "print(f\"This is a 3D box from a matrix: \\n\\t{box}\\n\")\n",
    "\n",
    "# 2D box\n",
    "box = freud.box.Box.from_matrix([[1, 0, 0], [0, 1, 0], [0, 0, 0]])\n",
    "print(f\"This is a 2D box from a matrix: \\n\\t{box}\\n\")\n",
    "\n",
    "# Automatic matrix detection using from_box\n",
    "box = freud.box.Box.from_box([[1, 1, 0], [0, 1, 0.5], [0, 0, 0.5]])\n",
    "print(f\"The box matrix was automatically detected: \\n\\t{box}\\n\")\n",
    "\n",
    "# Boxes can be numpy arrays as well\n",
    "import numpy as np\n",
    "\n",
    "box = freud.box.Box.from_box(np.array([[1, 1, 0], [0, 1, 0.5], [0, 0, 0.5]]))\n",
    "print(f\"Using a 3x3 numpy array: \\n\\t{box}\")"
   ]
  },
  {
   "cell_type": "markdown",
   "metadata": {},
   "source": [
    "## From a namedtuple or dict\n",
    "\n",
    "A box can be also be constructed from any object that provides an attribute for `Lx`, `Ly`, `Lz`, `xy`, `xz`, and `yz` (or some subset), such as a `namedtuple`.\n",
    "This method is suitable for passing in box objects constructed by some other program, for example."
   ]
  },
  {
   "cell_type": "code",
   "execution_count": 4,
   "metadata": {},
   "outputs": [
    {
     "name": "stdout",
     "output_type": "stream",
     "text": [
      "Box from named tuple: \n",
      "\tfreud.box.Box(Lx=5.0, Ly=3.0, Lz=2.0, xy=0.0, xz=0.0, yz=0.0, is2D=False)\n",
      "\n",
      "2D Box from named tuple: \n",
      "\tfreud.box.Box(Lx=5.0, Ly=3.0, Lz=0.0, xy=0.0, xz=0.0, yz=0.0, is2D=True)\n"
     ]
    }
   ],
   "source": [
    "from collections import namedtuple\n",
    "\n",
    "MyBox = namedtuple(\"mybox\", [\"Lx\", \"Ly\", \"Lz\", \"xy\", \"xz\", \"yz\"])\n",
    "\n",
    "box = freud.box.Box.from_box(MyBox(Lx=5, Ly=3, Lz=2, xy=0, xz=0, yz=0))\n",
    "print(f\"Box from named tuple: \\n\\t{box}\\n\")\n",
    "\n",
    "box = freud.box.Box.from_box(MyBox(Lx=5, Ly=3, Lz=0, xy=0, xz=0, yz=0))\n",
    "print(f\"2D Box from named tuple: \\n\\t{box}\")"
   ]
  },
  {
   "cell_type": "markdown",
   "metadata": {},
   "source": [
    "Similarly, construction is also possible using any object that supports key-value indexing, such as a dict."
   ]
  },
  {
   "cell_type": "code",
   "execution_count": 5,
   "metadata": {},
   "outputs": [
    {
     "name": "stdout",
     "output_type": "stream",
     "text": [
      "Box from dict: \n",
      "\tfreud.box.Box(Lx=5.0, Ly=3.0, Lz=2.0, xy=0.0, xz=0.0, yz=0.0, is2D=False)\n"
     ]
    }
   ],
   "source": [
    "box = freud.box.Box.from_box(dict(Lx=5, Ly=3, Lz=2))\n",
    "print(f\"Box from dict: \\n\\t{box}\")"
   ]
  },
  {
   "cell_type": "markdown",
   "metadata": {},
   "source": [
    "## From a list\n",
    "\n",
    "Finally, boxes can be constructed from any simple iterable that provides the elements in the correct order."
   ]
  },
  {
   "cell_type": "code",
   "execution_count": 6,
   "metadata": {},
   "outputs": [
    {
     "name": "stdout",
     "output_type": "stream",
     "text": [
      "Box from tuple: \n",
      "\tfreud.box.Box(Lx=5.0, Ly=6.0, Lz=7.0, xy=0.5, xz=0.0, yz=0.5, is2D=False)\n",
      "\n",
      "2D Box from list: \n",
      "\tfreud.box.Box(Lx=5.0, Ly=6.0, Lz=0.0, xy=0.0, xz=0.0, yz=0.0, is2D=True)\n"
     ]
    }
   ],
   "source": [
    "box = freud.box.Box.from_box((5, 6, 7, 0.5, 0, 0.5))\n",
    "print(f\"Box from tuple: \\n\\t{box}\\n\")\n",
    "\n",
    "box = freud.box.Box.from_box([5, 6])\n",
    "print(f\"2D Box from list: \\n\\t{box}\")"
   ]
  },
  {
   "cell_type": "markdown",
   "metadata": {},
   "source": [
    "## Convenience APIs\n",
    "\n",
    "We also provide convenience constructors for common geometries, namely square (2D) and cubic (3D) boxes."
   ]
  },
  {
   "cell_type": "code",
   "execution_count": 7,
   "metadata": {},
   "outputs": [
    {
     "name": "stdout",
     "output_type": "stream",
     "text": [
      "Cubic Box: \n",
      "\tfreud.box.Box(Lx=5.0, Ly=5.0, Lz=5.0, xy=0.0, xz=0.0, yz=0.0, is2D=False)\n",
      "\n",
      "Square Box: \n",
      "\tfreud.box.Box(Lx=5.0, Ly=5.0, Lz=0.0, xy=0.0, xz=0.0, yz=0.0, is2D=True)\n"
     ]
    }
   ],
   "source": [
    "cube_box = freud.box.Box.cube(L=5)\n",
    "print(f\"Cubic Box: \\n\\t{cube_box}\\n\")\n",
    "\n",
    "square_box = freud.box.Box.square(L=5)\n",
    "print(f\"Square Box: \\n\\t{square_box}\")"
   ]
  },
  {
   "cell_type": "markdown",
   "metadata": {},
   "source": [
    "## Export\n",
    "\n",
    "If you want to export or display the box, you can export box objects into their matrix or dictionary representations, which provide completely specified descriptions of the box."
   ]
  },
  {
   "cell_type": "code",
   "execution_count": 8,
   "metadata": {},
   "outputs": [
    {
     "data": {
      "text/plain": [
       "array([[5., 0., 0.],\n",
       "       [0., 5., 0.],\n",
       "       [0., 0., 5.]])"
      ]
     },
     "execution_count": 8,
     "metadata": {},
     "output_type": "execute_result"
    }
   ],
   "source": [
    "cube_box = freud.box.Box.cube(L=5)\n",
    "cube_box.to_matrix()"
   ]
  },
  {
   "cell_type": "code",
   "execution_count": 9,
   "metadata": {},
   "outputs": [
    {
     "data": {
      "text/plain": [
       "{'Lx': 5.0,\n",
       " 'Ly': 5.0,\n",
       " 'Lz': 5.0,\n",
       " 'xy': 0.0,\n",
       " 'xz': 0.0,\n",
       " 'yz': 0.0,\n",
       " 'dimensions': 3}"
      ]
     },
     "execution_count": 9,
     "metadata": {},
     "output_type": "execute_result"
    }
   ],
   "source": [
    "cube_box.to_dict()"
   ]
  },
  {
   "cell_type": "markdown",
   "metadata": {},
   "source": [
    "## Using boxes\n",
    "\n",
    "Given a freud box object, you can query it for all its attributes."
   ]
  },
  {
   "cell_type": "code",
   "execution_count": 10,
   "metadata": {},
   "outputs": [
    {
     "name": "stdout",
     "output_type": "stream",
     "text": [
      "L_x = 10.0, L_y = 10.0, L_z = 10.0, xy = 0.0, xz = 0.0, yz = 0.0\n",
      "The length vector: [10. 10. 10.]\n",
      "The inverse length vector: (0.10, 0.10, 0.10)\n"
     ]
    }
   ],
   "source": [
    "box = freud.box.Box.from_matrix([[10, 0, 0], [0, 10, 0], [0, 0, 10]])\n",
    "print(\n",
    "    \"L_x = {}, L_y = {}, L_z = {}, xy = {}, xz = {}, yz = {}\".format(\n",
    "        box.Lx, box.Ly, box.Lz, box.xy, box.xz, box.yz\n",
    "    )\n",
    ")\n",
    "\n",
    "print(f\"The length vector: {box.L}\")\n",
    "print(\n",
    "    \"The inverse length vector: ({:1.2f}, {:1.2f}, {:1.2f})\".format(\n",
    "        *[L for L in box.L_inv]\n",
    "    )\n",
    ")"
   ]
  },
  {
   "cell_type": "markdown",
   "metadata": {},
   "source": [
    "Boxes also support converting between fractional and absolute coordinates.\n",
    "\n",
    "**Note that the origin in real coordinates is defined at the center of the box.** This means the fractional coordinate range $[0, 1]$ maps onto $[-L/2, L/2]$, not $[0, L]$."
   ]
  },
  {
   "cell_type": "code",
   "execution_count": 11,
   "metadata": {},
   "outputs": [
    {
     "name": "stdout",
     "output_type": "stream",
     "text": [
      "[[-5. -5. -5.]\n",
      " [ 0.  0.  0.]\n",
      " [ 3. -2.  5.]]\n",
      "\n",
      "[[0.  0.  0. ]\n",
      " [0.5 0.5 0.5]\n",
      " [0.8 0.3 1. ]]\n"
     ]
    }
   ],
   "source": [
    "# Convert from fractional to absolute coordinates.\n",
    "print(box.make_absolute([[0, 0, 0], [0.5, 0.5, 0.5], [0.8, 0.3, 1]]))\n",
    "print()\n",
    "\n",
    "# Convert from fractional to absolute coordinates and back.\n",
    "print(\n",
    "    box.make_fractional(box.make_absolute([[0, 0, 0], [0.5, 0.5, 0.5], [0.8, 0.3, 1]]))\n",
    ")"
   ]
  },
  {
   "cell_type": "markdown",
   "metadata": {},
   "source": [
    "Finally (and most critically for enforcing periodicity), boxes support wrapping vectors from outside the box into the box.\n",
    "The concept of periodicity and box wrapping is most easily demonstrated visually."
   ]
  },
  {
   "cell_type": "code",
   "execution_count": 12,
   "metadata": {},
   "outputs": [
    {
     "data": {
      "text/plain": [
       "<matplotlib.axes._subplots.AxesSubplot at 0x7f2729d20518>"
      ]
     },
     "execution_count": 12,
     "metadata": {},
     "output_type": "execute_result"
    }
   ],
   "source": [
    "# Construct the box and get points for plotting\n",
    "Lx = Ly = 10\n",
    "xy = 0.5\n",
    "box = freud.box.Box.from_matrix([[Lx, xy * Ly, 0], [0, Ly, 0], [0, 0, 0]])\n",
    "box.plot()"
   ]
  },
  {
   "cell_type": "markdown",
   "metadata": {},
   "source": [
    "With periodic boundary conditions, what this actually represents is an infinite set of these boxes tiling space.\n",
    "For example, you can locally picture this box as surrounding by a set of identical boxes."
   ]
  },
  {
   "cell_type": "code",
   "execution_count": 13,
   "metadata": {
    "scrolled": false
   },
   "outputs": [
    {
     "data": {
      "image/png": "[encoded data removed]",
      "text/plain": [
       "<Figure size 648x432 with 1 Axes>"
      ]
     },
     "metadata": {
      "needs_background": "light"
     },
     "output_type": "display_data"
    }
   ],
   "source": [
    "%matplotlib inline\n",
    "import matplotlib.pyplot as plt\n",
    "\n",
    "fig, ax = plt.subplots(figsize=(9, 6))\n",
    "box.plot(ax=ax)\n",
    "for image in [[-1, 0, 0], [1, 0, 0], [0, -1, 0], [0, 1, 0]]:\n",
    "    box.plot(ax=ax, image=image, linestyle=\"dashed\", color=\"gray\")\n",
    "plt.show()"
   ]
  },
  {
   "cell_type": "markdown",
   "metadata": {},
   "source": [
    "Any particles in the original box will also therefore be seen as existing in all the neighboring boxes."
   ]
  },
  {
   "cell_type": "code",
   "execution_count": 14,
   "metadata": {},
   "outputs": [],
   "source": [
    "np.random.seed(0)\n",
    "fractional_coords = np.zeros((5, 3))\n",
    "fractional_coords[:, :2] = np.random.rand(5, 2)\n",
    "particles = box.make_absolute(fractional_coords)"
   ]
  },
  {
   "cell_type": "code",
   "execution_count": 15,
   "metadata": {
    "scrolled": false
   },
   "outputs": [
    {
     "data": {
      "image/png": "[encoded data removed]",
      "text/plain": [
       "<Figure size 648x432 with 1 Axes>"
      ]
     },
     "metadata": {
      "needs_background": "light"
     },
     "output_type": "display_data"
    }
   ],
   "source": [
    "fig, ax = plt.subplots(figsize=(9, 6))\n",
    "\n",
    "# Plot the points in the original box.\n",
    "box.plot(ax=ax)\n",
    "ax.scatter(particles[:, 0], particles[:, 1])\n",
    "\n",
    "# Plot particles in each of the periodic boxes.\n",
    "for image in [[-1, 0, 0], [1, 0, 0], [0, -1, 0], [0, 1, 0]]:\n",
    "    box.plot(ax=ax, image=image, linestyle=\"dashed\", color=\"gray\")\n",
    "    particle_images = box.unwrap(particles, image)\n",
    "    ax.scatter(particle_images[:, 0], particle_images[:, 1])\n",
    "\n",
    "plt.show()"
   ]
  },
  {
   "cell_type": "markdown",
   "metadata": {},
   "source": [
    "Box wrapping takes points in the periodic images of a box, and brings them back into the original box.\n",
    "In this context, that means that if we apply wrap to each of the sets of particles plotted above, they should all overlap."
   ]
  },
  {
   "cell_type": "code",
   "execution_count": 16,
   "metadata": {},
   "outputs": [
    {
     "data": {
      "image/png": "[encoded data removed]",
      "text/plain": [
       "<Figure size 864x576 with 4 Axes>"
      ]
     },
     "metadata": {
      "needs_background": "light"
     },
     "output_type": "display_data"
    }
   ],
   "source": [
    "fig, axes = plt.subplots(2, 2, figsize=(12, 8))\n",
    "images = [[-1, 0, 0], [1, 0, 0], [0, -1, 0], [0, 1, 0]]\n",
    "\n",
    "# Plot particles in each of the periodic boxes.\n",
    "for ax, image in zip(axes.flatten(), images):\n",
    "    box.plot(ax=ax)\n",
    "    box.plot(ax=ax, image=image, linestyle=\"dashed\", color=\"gray\")\n",
    "    particle_images = box.unwrap(particles, image)\n",
    "    ax.scatter(particle_images[:, 0], particle_images[:, 1], label=\"Images\")\n",
    "\n",
    "    wrapped_particle_images = box.wrap(particle_images)\n",
    "    ax.scatter(\n",
    "        wrapped_particle_images[:, 0], wrapped_particle_images[:, 1], label=\"Wrapped\"\n",
    "    )\n",
    "\n",
    "    ax.tick_params(axis=\"both\", which=\"both\", labelsize=14)\n",
    "    ax.legend()\n",
    "\n",
    "plt.show()"
   ]
  }
 ],
 "metadata": {
  "kernelspec": {
   "display_name": "Python 3",
   "language": "python",
   "name": "python3"
  },
  "language_info": {
   "codemirror_mode": {
    "name": "ipython",
    "version": 3
   },
   "file_extension": ".py",
   "mimetype": "text/x-python",
   "name": "python",
   "nbconvert_exporter": "python",
   "pygments_lexer": "ipython3",
   "version": "3.7.3"
  },
  "toc": {
   "base_numbering": 1,
   "nav_menu": {},
   "number_sections": true,
   "sideBar": true,
   "skip_h1_title": false,
   "title_cell": "Table of Contents",
   "title_sidebar": "Contents",
   "toc_cell": false,
   "toc_position": {},
   "toc_section_display": true,
   "toc_window_display": false
  }
 },
 "nbformat": 4,
 "nbformat_minor": 2
}
