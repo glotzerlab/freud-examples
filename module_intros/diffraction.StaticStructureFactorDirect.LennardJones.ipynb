{
 "cells": [
  {
   "cell_type": "markdown",
   "id": "ae31596c-24a7-4547-9c42-6cd0141fd138",
   "metadata": {},
   "source": [
    "# freud.diffraction.StaticStructureFactorDirect\n",
    "\n",
    "The `freud.diffraction.StaticStructureFactorDirect` class computes a one-dimensional [static structure factor](https://en.wikipedia.org/wiki/Structure_factor) for a set of N points:\n",
    "\n",
    "$$S(\\mathbf{q}) = {\\frac{1}{N}}\\sum_{j=1}^{N}\\sum_{k=1}^{N}\\mathrm{e}^{-i\\mathbf{q}\\cdot(\\mathbf{R}_{j} - \\mathbf{R}_{k})}$$\n",
    "\n",
    "The points used here were generated from a HOOMD-blue simulation of a 1000-particle system subject to the Lennard-Jones potential. For a tutorial of how to run such a simulation, see 00-Introducing-HOOMD-blue in Glotzerlab's [hoomd-examples repository](https://github.com/glotzerlab/hoomd-examples)."
   ]
  },
  {
   "cell_type": "code",
   "execution_count": 3,
   "id": "f2b50d1e-be16-421d-8d3a-ea728e437c75",
   "metadata": {},
   "outputs": [],
   "source": [
    "# Read in the simulation data\n",
    "import gsd.hoomd\n",
    "\n",
    "traj = gsd.hoomd.open(\"../data/trajectory.gsd\", \"rb\")"
   ]
  },
  {
   "cell_type": "code",
   "execution_count": 6,
   "id": "f2080aca-6845-4ab3-8727-b6916c886b24",
   "metadata": {},
   "outputs": [
    {
     "ename": "AttributeError",
     "evalue": "module 'freud.diffraction' has no attribute 'StaticStructureFactor'",
     "output_type": "error",
     "traceback": [
      "\u001b[0;31m---------------------------------------------------------------------------\u001b[0m",
      "\u001b[0;31mAttributeError\u001b[0m                            Traceback (most recent call last)",
      "\u001b[0;32m<ipython-input-6-c2adf5e75b9c>\u001b[0m in \u001b[0;36m<module>\u001b[0;34m\u001b[0m\n\u001b[1;32m      2\u001b[0m \u001b[0;32mimport\u001b[0m \u001b[0mmatplotlib\u001b[0m\u001b[0;34m.\u001b[0m\u001b[0mpyplot\u001b[0m \u001b[0;32mas\u001b[0m \u001b[0mplt\u001b[0m\u001b[0;34m\u001b[0m\u001b[0;34m\u001b[0m\u001b[0m\n\u001b[1;32m      3\u001b[0m \u001b[0;34m\u001b[0m\u001b[0m\n\u001b[0;32m----> 4\u001b[0;31m \u001b[0msf\u001b[0m \u001b[0;34m=\u001b[0m \u001b[0mfreud\u001b[0m\u001b[0;34m.\u001b[0m\u001b[0mdiffraction\u001b[0m\u001b[0;34m.\u001b[0m\u001b[0mStaticStructureFactor\u001b[0m\u001b[0;34m(\u001b[0m\u001b[0mbins\u001b[0m\u001b[0;34m=\u001b[0m\u001b[0;36m200\u001b[0m\u001b[0;34m,\u001b[0m \u001b[0mk_max\u001b[0m\u001b[0;34m=\u001b[0m\u001b[0;36m25\u001b[0m\u001b[0;34m,\u001b[0m \u001b[0mk_min\u001b[0m\u001b[0;34m=\u001b[0m\u001b[0;36m1\u001b[0m\u001b[0;34m)\u001b[0m\u001b[0;34m\u001b[0m\u001b[0;34m\u001b[0m\u001b[0m\n\u001b[0m\u001b[1;32m      5\u001b[0m \u001b[0;34m\u001b[0m\u001b[0m\n\u001b[1;32m      6\u001b[0m \u001b[0;31m# Accumulate S(q) over the entire trajectory\u001b[0m\u001b[0;34m\u001b[0m\u001b[0;34m\u001b[0m\u001b[0;34m\u001b[0m\u001b[0m\n",
      "\u001b[0;31mAttributeError\u001b[0m: module 'freud.diffraction' has no attribute 'StaticStructureFactor'"
     ]
    }
   ],
   "source": [
    "import freud\n",
    "import matplotlib.pyplot as plt\n",
    "\n",
    "sf = freud.diffraction.StaticStructureFactor(bins=200, k_max=25, k_min=1)\n",
    "\n",
    "# Accumulate S(q) over the entire trajectory\n",
    "for frame in traj:\n",
    "    box = frame.configuration.box\n",
    "    points = frame.particles.position\n",
    "    sf.compute((box, points))\n",
    "    \n",
    "sf.plot()\n",
    "plt.show()"
   ]
  }
 ],
 "metadata": {
  "kernelspec": {
   "display_name": "Python 3",
   "language": "python",
   "name": "python3"
  },
  "language_info": {
   "codemirror_mode": {
    "name": "ipython",
    "version": 3
   },
   "file_extension": ".py",
   "mimetype": "text/x-python",
   "name": "python",
   "nbconvert_exporter": "python",
   "pygments_lexer": "ipython3",
   "version": "3.9.0"
  }
 },
 "nbformat": 4,
 "nbformat_minor": 5
}
