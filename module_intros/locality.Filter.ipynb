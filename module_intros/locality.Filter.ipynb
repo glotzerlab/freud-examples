{
 "cells": [
  {
   "cell_type": "markdown",
   "id": "80d44c4c",
   "metadata": {},
   "source": [
    "# freud.locality.Filter\n",
    "\n",
    "In this notebook, we introduce the neighborlist filter concept in freud, discuss the filtering methods implemented in freud, and demonstrate how to use them with good efficiency."
   ]
  },
  {
   "cell_type": "markdown",
   "id": "f78106b4",
   "metadata": {},
   "source": [
    "## What is a NeighborList Filter?\n",
    "\n",
    "A neighborlist filter is a class which removes some bonds from a pre-defined neighborlist. A neighborlist filter can be thought of as a function for which an unfiltered `NeighborList` is given as the input and a filtered version of the input `NeighborList` is the output. Freud already has some methods in the `NeighborList` class like `filter` and `filter_r` which can achieve this concept, but often the full system definition is needed to decide which bonds to remove. This is often the case when typical neighbor queries which use `r_max` or `num_neighbors` label two particles as neighbors even though they are blocked by another particle in between them. Each of freud's neighborlist filters defines the concept of \"blocking\" or being \"blocked\" differently and removes bonds between particles which are blocked by another particle."
   ]
  },
  {
   "cell_type": "markdown",
   "id": "445531c4",
   "metadata": {},
   "source": [
    "## The Solid Angle Nearest Neighbor (SANN) Method\n",
    "\n",
    "With the SANN method, we look for enough nearby neighbors to fully occupy the $4 \\pi$ solid angle distribution surrounding a particle and label all neighbors further away as blocked. Strictly speaking, we consider neighbors going radially outward and define the solid angle occupied by each neighbor as [show the formula from the paper]. The `freud.locality.FilterSANN` class implements this method, and an example usage is shown below:"
   ]
  },
  {
   "cell_type": "code",
   "execution_count": null,
   "id": "3164e5e7",
   "metadata": {},
   "outputs": [],
   "source": [
    "import freud\n",
    "\n",
    "# make the system to operate on\n",
    "N = 1000\n",
    "L = 100\n",
    "box, points = freud.data.make_random_system(N, L)\n",
    "\n",
    "# create the unfiltered neighborlist\n",
    "nlist = freud.locality.AABBQuery(box, points).compute(points, neighbors=dict(r_max=49, exclude_ii=True)).toNeighborList()\n",
    "\n",
    "# make the FilterSANN and call compute\n",
    "sann = freud.locality.FilterSANN()\n",
    "sann.compute((box, points), neighbors=nlist)\n",
    "\n",
    "# access the filtered neighborlist as a property at the end\n",
    "sann.filtered_nlist"
   ]
  },
  {
   "cell_type": "markdown",
   "id": "f217ac3a",
   "metadata": {},
   "source": [
    "Optionally, instead of having to do the neighbor query explicitly in your python script, freud will do it automatically if query arguents are passed to the `neighbors` argument of `FilterSANN`'s `compute` method. The following script is equivalent to the previous script:"
   ]
  },
  {
   "cell_type": "code",
   "execution_count": null,
   "id": "77e5a753",
   "metadata": {},
   "outputs": [],
   "source": [
    "import freud\n",
    "\n",
    "# make the system to operate on\n",
    "N = 1000\n",
    "L = 100\n",
    "box, points = freud.data.make_random_system(N, L)\n",
    "\n",
    "# make the FilterSANN and call compute\n",
    "sann = freud.locality.FilterSANN()\n",
    "sann.compute((box, points), neighbors=dict(r_max=49, exclude_ii=True))\n",
    "\n",
    "# get the filtered neighborlist at the end\n",
    "sann.filtered_nlist\n",
    "\n",
    "# get the unfiltered neighborlist automatically computed by freud\n",
    "sann.unfiltered_nlist"
   ]
  },
  {
   "cell_type": "markdown",
   "id": "be265984",
   "metadata": {},
   "source": [
    "In general, we recommend using `exclude_ii=True` in neighbor queries to generate the unfiltered neighborlist, due to algorithmic issues when the distance between neighbors is $0$. Custom `NeighborList`'s are also supported as inputs to the `neighbors` argument, as shown below:"
   ]
  },
  {
   "cell_type": "code",
   "execution_count": null,
   "id": "f43a6be8",
   "metadata": {},
   "outputs": [],
   "source": [
    "import freud\n",
    "import numpy as np\n",
    "\n",
    "# make the system to operate on\n",
    "N = 1000\n",
    "L = 100\n",
    "box, points = freud.data.make_random_system(N, L)\n",
    "\n",
    "# custom neighborlist\n",
    "point_indices = np.random.randint(low=0, high=N, num=N)\n",
    "query_point_indices = np.random.randint(low=0, high=N, num=N)\n",
    "distances = box.wrap(np.linalg.norm(points[point_indices] - points[query_point_indices], axis=-1))\n",
    "nlist = freud.locality.NeighborList.from_arrays(N, N, point_indices, query_point_indices, distances)\n",
    "\n",
    "# make the FilterSANN and call compute\n",
    "sann = freud.locality.FilterSANN()\n",
    "sann.compute((box, points), neighbors=nlist)\n",
    "\n",
    "# get the filtered neighborlist at the end\n",
    "sann.filtered_nlist"
   ]
  },
  {
   "cell_type": "markdown",
   "id": "64e7fc61",
   "metadata": {},
   "source": [
    "If nothing is given to the `neighbors` argument, freud will automatically compute an all pairs neighborlist (excluding ii  pairs) as the unfiltered neighborlist, equivalent to what is shown below:"
   ]
  },
  {
   "cell_type": "code",
   "execution_count": null,
   "id": "e4c01834",
   "metadata": {},
   "outputs": [],
   "source": [
    "import freud\n",
    "\n",
    "# make the system to operate on\n",
    "N = 1000\n",
    "L = 100\n",
    "box, points = freud.data.make_random_system(N, L)\n",
    "\n",
    "# all pairs neighborlist\n",
    "nlist = freud.locality.NeighborList.all_pairs(points, exclude_ii=True)\n",
    "\n",
    "# make the FilterSANN and call compute\n",
    "sann = freud.locality.FilterSANN()\n",
    "sann.compute((box, points), neighbors=nlist)\n",
    "\n",
    "# get the filtered neighborlist at the end\n",
    "sann.filtered_nlist"
   ]
  },
  {
   "cell_type": "markdown",
   "id": "085e3365",
   "metadata": {},
   "source": [
    "## The Relative Angular Distance (RAD) Method\n",
    "\n",
    "With the RAD method, we label a neighbor as blocked if the angle formed between it, the other neighbor, and a blocking particle is less than a given threshold."
   ]
  },
  {
   "cell_type": "markdown",
   "id": "53ef28bc",
   "metadata": {},
   "source": [
    "## Incomplete Shells and Performance Considerations"
   ]
  },
  {
   "cell_type": "code",
   "execution_count": null,
   "id": "9691fe19",
   "metadata": {},
   "outputs": [],
   "source": []
  }
 ],
 "metadata": {
  "kernelspec": {
   "display_name": "Python 3 (ipykernel)",
   "language": "python",
   "name": "python3"
  },
  "language_info": {
   "codemirror_mode": {
    "name": "ipython",
    "version": 3
   },
   "file_extension": ".py",
   "mimetype": "text/x-python",
   "name": "python",
   "nbconvert_exporter": "python",
   "pygments_lexer": "ipython3",
   "version": "3.7.12"
  }
 },
 "nbformat": 4,
 "nbformat_minor": 5
}
