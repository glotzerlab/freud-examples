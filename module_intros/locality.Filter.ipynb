{
 "cells": [
  {
   "cell_type": "markdown",
   "id": "80d44c4c",
   "metadata": {},
   "source": [
    "# freud.locality.Filter\n",
    "\n",
    "In this notebook, we introduce the neighborlist filter concept, discuss the filtering methods implemented in freud, and demonstrate how to use them with good efficiency."
   ]
  },
  {
   "cell_type": "markdown",
   "id": "f78106b4",
   "metadata": {},
   "source": [
    "## What is a NeighborList Filter?\n",
    "\n",
    "A neighborlist filter is a class which removes some bonds from a pre-defined neighborlist. A neighborlist filter can be thought of as a function for which an unfiltered `NeighborList` is given as the input and a filtered version of the input `NeighborList` is the output. Freud already has some methods in the `NeighborList` class like `filter` and `filter_r` which can achieve this concept, but often the full system definition is needed to decide which bonds to remove. This is often the case when typical neighbor finding algorithms which use `r_max` or `num_neighbors` label two particles as neighbors even though they are blocked by another particle in between them. Each of freud's neighborlist filters defines the concept of \"blocking\" or being \"blocked\" differently and removes bonds between particles which are blocked by another particle."
   ]
  },
  {
   "cell_type": "markdown",
   "id": "445531c4",
   "metadata": {},
   "source": [
    "## The Solid Angle Nearest Neighbor (SANN) Method\n",
    "\n",
    "With the [Solid Angle Nearest Neighbor (SANN) method](https://doi.org/10.1063/1.4729313), we look for enough nearby neighbors to fully occupy the $4 \\pi$ solid angle distribution surrounding a particle and label all neighbors further away as blocked. Strictly speaking, we consider neighbors going radially outward and define the solid angle occupied by each neighbor as [show the formula from the paper]. The `freud.locality.FilterSANN` class implements this method, and an example usage is shown below:"
   ]
  },
  {
   "cell_type": "code",
   "execution_count": 1,
   "id": "3164e5e7",
   "metadata": {},
   "outputs": [
    {
     "data": {
      "text/plain": [
       "<freud.locality.NeighborList at 0x105adfcf0>"
      ]
     },
     "execution_count": 1,
     "metadata": {},
     "output_type": "execute_result"
    }
   ],
   "source": [
    "import freud\n",
    "\n",
    "# make the system to operate on\n",
    "N = 1000\n",
    "L = 10\n",
    "box, points = freud.data.make_random_system(L, N)\n",
    "\n",
    "# create the unfiltered neighborlist\n",
    "nlist = freud.locality.AABBQuery(box, points).query(\n",
    "    points, dict(r_max=4.9, exclude_ii=True)\n",
    ").toNeighborList()\n",
    "\n",
    "# make the FilterSANN and call compute\n",
    "sann = freud.locality.FilterSANN()\n",
    "sann.compute((box, points), neighbors=nlist)\n",
    "\n",
    "# access the filtered neighborlist as a property at the end\n",
    "sann.filtered_nlist"
   ]
  },
  {
   "cell_type": "markdown",
   "id": "f217ac3a",
   "metadata": {},
   "source": [
    "Optionally, instead of having to do the neighbor query explicitly in your python script, freud will do it automatically if query arguents are passed to the `neighbors` argument of `FilterSANN`'s `compute` method. The following call to `compute` is equivalent to the call in the previous script:"
   ]
  },
  {
   "cell_type": "code",
   "execution_count": 2,
   "id": "77e5a753",
   "metadata": {},
   "outputs": [
    {
     "data": {
      "text/plain": [
       "<freud.locality.NeighborList at 0x105b09a50>"
      ]
     },
     "execution_count": 2,
     "metadata": {},
     "output_type": "execute_result"
    }
   ],
   "source": [
    "# call compute\n",
    "sann.compute((box, points), neighbors=dict(r_max=4.9, exclude_ii=True))\n",
    "\n",
    "# get the filtered neighborlist at the end\n",
    "sann.filtered_nlist\n",
    "\n",
    "# get the unfiltered neighborlist automatically computed by freud\n",
    "sann.unfiltered_nlist"
   ]
  },
  {
   "cell_type": "markdown",
   "id": "be265984",
   "metadata": {},
   "source": [
    "In general, we recommend using `exclude_ii=True` in neighbor queries to generate the unfiltered neighborlist, due to algorithmic issues when the distance between neighbors is $0$. Custom `NeighborList`'s are also supported as inputs to the `neighbors` argument, as shown below:"
   ]
  },
  {
   "cell_type": "code",
   "execution_count": 3,
   "id": "f43a6be8",
   "metadata": {},
   "outputs": [
    {
     "data": {
      "text/plain": [
       "<freud.locality.NeighborList at 0x105adfa80>"
      ]
     },
     "execution_count": 3,
     "metadata": {},
     "output_type": "execute_result"
    }
   ],
   "source": [
    "import numpy as np\n",
    "\n",
    "# custom neighborlist\n",
    "M = 15\n",
    "query_point_indices = np.arange(N).repeat(M)\n",
    "point_indices = np.random.randint(low=0, high=N, size=M * N)\n",
    "distances = np.linalg.norm(box.wrap(points[point_indices, :] - points[query_point_indices, :]), axis=-1)\n",
    "nlist = freud.locality.NeighborList.from_arrays(N, N, query_point_indices, point_indices, distances)\n",
    "\n",
    "# make the FilterSANN and call compute\n",
    "sann.compute((box, points), neighbors=nlist)\n",
    "\n",
    "# get the filtered neighborlist at the end\n",
    "sann.filtered_nlist"
   ]
  },
  {
   "cell_type": "markdown",
   "id": "64e7fc61",
   "metadata": {},
   "source": [
    "If nothing is given to the `neighbors` argument, freud will automatically compute an all pairs neighborlist (excluding ii  pairs) as the unfiltered neighborlist, equivalent to what is shown below:"
   ]
  },
  {
   "cell_type": "code",
   "execution_count": 4,
   "id": "e4c01834",
   "metadata": {},
   "outputs": [
    {
     "data": {
      "text/plain": [
       "<freud.locality.NeighborList at 0x105adf360>"
      ]
     },
     "execution_count": 4,
     "metadata": {},
     "output_type": "execute_result"
    }
   ],
   "source": [
    "# make the FilterSANN and call compute\n",
    "sann = freud.locality.FilterSANN()\n",
    "sann.compute((box, points), neighbors=nlist)\n",
    "\n",
    "# get the filtered neighborlist at the end\n",
    "sann.filtered_nlist"
   ]
  },
  {
   "cell_type": "markdown",
   "id": "085e3365",
   "metadata": {},
   "source": [
    "## The Relative Angular Distance (RAD) Method\n",
    "\n",
    "With the RAD method, we label a neighbor as blocked if the angle formed between it, the other neighbor, and a blocking particle is less than a given threshold."
   ]
  },
  {
   "cell_type": "markdown",
   "id": "53ef28bc",
   "metadata": {},
   "source": [
    "## Incomplete Shells and Performance Considerations"
   ]
  },
  {
   "cell_type": "code",
   "execution_count": null,
   "id": "9691fe19",
   "metadata": {},
   "outputs": [],
   "source": []
  }
 ],
 "metadata": {
  "kernelspec": {
   "display_name": "Python 3 (ipykernel)",
   "language": "python",
   "name": "python3"
  },
  "language_info": {
   "codemirror_mode": {
    "name": "ipython",
    "version": 3
   },
   "file_extension": ".py",
   "mimetype": "text/x-python",
   "name": "python",
   "nbconvert_exporter": "python",
   "pygments_lexer": "ipython3",
   "version": "3.9.16"
  }
 },
 "nbformat": 4,
 "nbformat_minor": 5
}
