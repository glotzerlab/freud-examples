{
 "cells": [
  {
   "cell_type": "markdown",
   "source": [
    "ir Static Structure Factor\n",
    "\n",
    "The `freud.diffraction` module provides two methods for calculating a one-dimensional [static structure factor](https://en.wikipedia.org/wiki/Structure_factor) $S(k)$ which can be used to characterise structure of crystals, liquids or amorphous phases.\n",
    "\n",
    "The `freud.diffraction.StaticStructureFactorDirect` class implements a \"direct\" $S(k)$ method, which operates on a k-space grid:\n",
    "\n",
    "$$S(k) = {\\frac{1}{N}}\\sum_{i=1}^{N}\\sum_{j=1}^{N}\\mathrm{e}^{-i\\mathbf{k}\\cdot(\\mathbf{r}_{i} - \\mathbf{r}_{j})}$$\n",
    "\n",
    "For an excellent introduction to the theory of scattering and $S(k)$, please refer to the documentation of the [dynasor package](https://dynasor.materialsmodeling.org/), which performs a number of calculations related to scattering. We have re-implemented the core method of static structure factor calculation from dynasor in **freud** with some additional performance optimizations in parallelized C++ code, as well as an interface to compute $S(k)$ that aligns with the APIs and conventions of the **freud** analysis library.\n",
    "\n",
    "The `freud.diffraction.StaticStructureFactorDebye` class computes static structure factor based on the Debye scattering equation:\n",
    "\n",
    "$$ S(k) = {\\frac{1}{N}} \\sum_{i=1}^{N}\\sum_{j=1}^{N}{\\frac{\\sin(kr_{ij})}{kr_{ij}}} $$\n",
    "\n",
    "which is obtained by integrating out the angular dependence from the original formula. This implementation provides a much faster algorithm, but gives worse results than the \"direct\" method at low-k values.\n",
    "\n",
    "Note that freud employs the usual physics convention, as opposed to the crystallographic convetion, with following expression linking the two: $k = 2\\pi q$. Static structure factor is related to the radial distribution function, $g(r)$, by a Fourier Transform, i.e.\n",
    "\n",
    "$$ S(k) = 1 + \\rho \\int_{V}\\mathrm{d}\\mathbf{r}e^{-i\\mathbf{k}\\cdot\\mathbf{r}}g(r). $$"
   ],
   "metadata": {}
  },
  {
   "cell_type": "markdown",
   "source": [
    "## Lennard-Jones liquid example\n",
    "\n",
    "One of the use cases for $S(k)$ is to characterize structure of liquids. The example shown here uses points that were generated from a HOOMD-blue simulation of a 1000-particle system subject to the Lennard-Jones potential, see HOOMD-blue [documentation](https://hoomd-blue.readthedocs.io/en/latest/) and [examples](https://github.com/glotzerlab/hoomd-examples)."
   ],
   "metadata": {}
  },
  {
   "cell_type": "code",
   "execution_count": 3,
   "source": [
    "# Read in the simulation data\n",
    "import gsd.hoomd\n",
    "\n",
    "traj = gsd.hoomd.open(\"../data/LJsampletraj.gsd\", \"rb\")"
   ],
   "outputs": [],
   "metadata": {}
  },
  {
   "cell_type": "code",
   "execution_count": null,
   "source": [
    "import freud\n",
    "import matplotlib.pyplot as plt\n",
    "\n",
    "bins = 100\n",
    "kmax = 20\n",
    "kmin = 1\n",
    "sfDirect = freud.diffraction.StaticStructureFactorDirect(\n",
    "    bins=bins, k_max=kmax, k_min=kmin\n",
    ")\n",
    "sfDebye = freud.diffraction.StaticStructureFactorDebye(\n",
    "    bins=bins, k_max=kmax, k_min=kmin\n",
    ")\n",
    "\n",
    "for frame in traj:\n",
    "    box = frame.configuration.box\n",
    "    points = frame.particles.position\n",
    "\n",
    "    sfDebye.compute((box, points), reset=False)\n",
    "    sfDirect.compute((box, points), reset=False)\n",
    "\n",
    "sfDebye.plot()\n",
    "sfDirect.plot()\n",
    "plt.show()"
   ],
   "outputs": [],
   "metadata": {}
  },
  {
   "cell_type": "markdown",
   "source": [
    "## Crystal comparsion example\n",
    "Static structure factor $S(k)$ can also be used to characterize and compare crystal structures. In the below example we compare the computed static structure factors $S(k)$ of a face-centered cubic (fcc) crystal and simple cubic (sc) crystal."
   ],
   "metadata": {}
  },
  {
   "cell_type": "code",
   "execution_count": null,
   "source": [
    "import freud\n",
    "import matplotlib.pyplot as plt\n",
    "\n",
    "sf = freud.diffraction.StaticStructureFactorDirect(bins=200, k_max=25, k_min=1)\n",
    "boxfcc, pointsfcc = freud.data.UnitCell.fcc().generate_system(10, sigma_noise=0.10)\n",
    "sf.compute((boxfcc, pointsfcc))\n",
    "sf.plot()\n",
    "\n",
    "boxsc, pointssc = freud.data.UnitCell.sc().generate_system(10, sigma_noise=0.10)\n",
    "sf.compute((boxsc, pointssc))\n",
    "sf.plot()\n",
    "\n",
    "plt.show()"
   ],
   "outputs": [],
   "metadata": {}
  },
  {
   "cell_type": "markdown",
   "source": [
    "## Calculation of partial structure factors\n",
    "\n",
    "Both methods support calculation of partial structure factors according to [Faber-Ziman decomposition](https://freud--821.org.readthedocs.build/en/820/modules/diffraction.html#freud.diffraction.StaticStructureFactorDirect) {***UPDATE LINK AFTER CLOSING PR***}{should we incluede the formula for decomposition here?}. In our implementation summation of partials reproduces the total scattering. In this example we load GeS$_2$ trajectory and calculate the Ge-Ge partial, the S-S partial and the mixed Ge-S partial (which is the same as S-Ge partial). The calculation of the partials requires the usage of nquery and N_tot parameters for the compute method.{an updated example can incluede an example on how to calculate full I with valid form factor witghts for neutron and x ray for example?}"
   ],
   "metadata": {}
  },
  {
   "cell_type": "code",
   "execution_count": null,
   "source": [
    "import freud\n",
    "import matplotlib.pyplot as plt\n",
    "import numpy as np\n",
    "\n",
    "# read in xyz file\n",
    "\n",
    "N_part = int(np.genfromtxt(fle, max_rows=1))\n",
    "positions = np.genfromtxt(\"../data/ges2.xyz\", skip_header=2, invalid_raise=False)[\n",
    "    :, 1:4\n",
    "].reshape(-1, N_part, 3)\n",
    "\n",
    "atom_type = np.genfromtxt(\n",
    "    \"../data/ges2.xyz\", skip_header=2, invalid_raise=False, dtype=str\n",
    ")[:, 0].reshape(-1, N_part)\n",
    "\n",
    "box = freud.box.Box.from_lengths(L=19.21)\n",
    "\n",
    "# take the last frame\n",
    "points = positions[-1]\n",
    "atypes_last_frame = atom_type[-1]\n",
    "Ge_points = points[atypes_last_frame == \"Ge\"]\n",
    "S_points = points[atypes_last_frame == \"S\"]\n",
    "\n",
    "# max_k_points is the number of k-points used in the calculation, higher values give better S(k) but take longer\n",
    "max_k_points = 200000\n",
    "sf = freud.diffraction.StaticStructureFactorDirect(\n",
    "    bins=100, k_max=30, k_min=1, max_k_points=max_k_points\n",
    ")\n",
    "sf.compute((box, S_points), query_points=S_points, N_total=N_part)\n",
    "sf.plot()\n",
    "sf.compute((box, S_points), query_points=Ge_points, N_total=N_part)\n",
    "sf.plot()\n",
    "sf.compute((box, Ge_points), query_points=Ge_points, N_total=N_part)\n",
    "sf.plot()\n",
    "plt.show()"
   ],
   "outputs": [],
   "metadata": {}
  }
 ],
 "metadata": {
  "kernelspec": {
   "name": "python3",
   "display_name": "Python 3.9.6 64-bit ('freud': conda)"
  },
  "language_info": {
   "codemirror_mode": {
    "name": "ipython",
    "version": 3
   },
   "file_extension": ".py",
   "mimetype": "text/x-python",
   "name": "python",
   "nbconvert_exporter": "python",
   "pygments_lexer": "ipython3",
   "version": "3.9.6"
  },
  "interpreter": {
   "hash": "df718b9d878f0e2fa3ac521685eaca0b0330a4f5a311239e628f113000f378f8"
  }
 },
 "nbformat": 4,
 "nbformat_minor": 4
}