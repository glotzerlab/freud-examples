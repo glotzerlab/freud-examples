{
 "cells": [
  {
   "cell_type": "markdown",
   "source": [
    "## Static Structure Factor\n",
    "\n",
    "the `freud.diffraction` module provides the tools to calculate static structure factor S(q) [link to wiki?] which can be used to characterise structure of crystals, liquids or amorphous phases. In this notebook we will show how to calculate static structure factor of Lennard Jones liquid obtained from basic HOOMDv3 example [link to hoomd md]. We shall use both the \"direct\" method and the Debye scattering formula. The \"direct\" method calculates the static structure factor by constructing a k-space grid and applying the formula for S(q) to update the histograms on the k-space grid. The histograms are then integrated to give q-scalar dependence. Debye scattering formula on the other hand integrates out the orientations prior to histogram binning and thus provides a much faster algorithm giving worse results at low-k values then the \"direct\" method."
   ],
   "metadata": {}
  },
  {
   "cell_type": "markdown",
   "source": [
    "## freud.diffraction.StaticStructureFactorDebye\n",
    "\n",
    "The `freud.diffraction.StaticStructureFactorDebye` class computes a one-dimensional [static structure factor](https://en.wikipedia.org/wiki/Structure_factor) for a set of $N$ points, based on the Debye scattering equation:\n",
    "\n",
    "$$ S(\\mathbf{q}) = {\\frac{1}{N}} \\sum_{j=1}^{N}\\sum_{k=1}^{N}{\\frac{\\sin(qr_{jk})}{qr_{jk}}}$$\n",
    "\n",
    "The points used here were generated from a HOOMD-blue simulation of a 1000-particle system subject to the Lennard-Jones potential. For a tutorial of how to run such a simulation, see 00-Introducing-HOOMD-blue in Glotzerlab's [hoomd-examples repository](https://github.com/glotzerlab/hoomd-examples)."
   ],
   "metadata": {}
  },
  {
   "cell_type": "markdown",
   "source": [
    "## freud.diffraction.StaticStructureFactorDirect\n",
    "\n",
    "The `freud.diffraction.StaticStructureFactorDirect` class computes a one-dimensional [static structure factor](https://en.wikipedia.org/wiki/Structure_factor) for a set of N points:\n",
    "\n",
    "$$S(\\mathbf{q}) = {\\frac{1}{N}}\\sum_{j=1}^{N}\\sum_{k=1}^{N}\\mathrm{e}^{-i\\mathbf{q}\\cdot(\\mathbf{R}_{j} - \\mathbf{R}_{k})}$$\n",
    "\n",
    "The points used here were generated from a HOOMD-blue simulation of a 1000-particle system subject to the Lennard-Jones potential. For a tutorial of how to run such a simulation, see 00-Introducing-HOOMD-blue in Glotzerlab's [hoomd-examples repository](https://github.com/glotzerlab/hoomd-examples)."
   ],
   "metadata": {}
  },
  {
   "cell_type": "code",
   "execution_count": null,
   "source": [
    "import freud\n",
    "\n",
    "# Read in the simulation data\n",
    "import gsd.hoomd\n",
    "\n",
    "traj = gsd.hoomd.open(\"../data/LJsampletraj.gsd\", \"rb\")\n",
    "import freud\n",
    "import matplotlib.pyplot as plt\n",
    "\n",
    "sfdirect = freud.diffraction.StaticStructureFactorDirect(bins=200, k_max=25, k_min=1)\n",
    "\n",
    "sfdebye = freud.diffraction.StaticStructureFactorDebye(bins=200, k_max=25, k_min=1)\n",
    "\n",
    "sfdebyeNoPBC = freud.diffraction.StaticStructureFactorDebye(bins=200, k_max=25, k_min=1)\n",
    "\n",
    "# Accumulate S(q) over the entire trajectory\n",
    "for frame in traj:\n",
    "    box = frame.configuration.box\n",
    "    points = frame.particles.position\n",
    "    sfdirect.compute((box, points), reset=False)\n",
    "    sfdebye.compute((box, points), reset=False)\n",
    "    NoPBCbox = box\n",
    "    NoPBCbox.PBC = False\n",
    "    sfdebyeNoPBC.compute((NoPBCbox, points), reset=False)\n",
    "\n",
    "# create legend stuff\n",
    "plt.plot(sfdirect.bin_centers, sfdirect.S_k, label=\"direct\")\n",
    "plt.plot(sfdebyeNoPBC.bin_centers, sfdebyeNoPBC.S_k, label=\"debye no PBC\")\n",
    "plt.plot(sfdebye.bin_centers, sfdebye.S_k, label=\"debye with PBC\")\n",
    "plt.legend()\n",
    "plt.show()"
   ],
   "outputs": [],
   "metadata": {}
  },
  {
   "cell_type": "markdown",
   "source": [
    "Both `freud.diffraction.StaticStructureFactorDirect` and `freud.diffraction.StaticStructureFactorDebye` classes support calculation of partial structure factors according to Faber-Ziman decomposition [link to docs??]. In this example we randomly split the system in two parts, one containing a third of the system and the other one containing the other two thirds of the system. The calculation of the partials requires the usage of nquery and N_tot to be sucessfull:"
   ],
   "metadata": {}
  },
  {
   "cell_type": "markdown",
   "source": [
    "# freud.diffraction.StaticStructureFactorDirect\n",
    "\n",
    "The `freud.diffraction.StaticStructureFactorDirect` class computes a one-dimensional [static structure factor](https://en.wikipedia.org/wiki/Structure_factor) $S(k)$ of a set of points. For an excellent introduction to the theory of scattering and $S(k)$, please refer to the documentation of the [dynasor package](https://dynasor.materialsmodeling.org/), which performs a number of calculations related to scattering. We have re-implemented the core method of static structure factor calculation from dynasor in **freud** with some additional performance optimizations in parallelized C++ code, as well as an interface to compute $S(k)$ that aligns with the APIs and conventions of the **freud** analysis library."
   ],
   "metadata": {}
  },
  {
   "cell_type": "code",
   "execution_count": null,
   "source": [
    "L = 10\n",
    "N = 10000\n",
    "max_k_points = 200000\n",
    "box, points = freud.data.make_random_system(L, N)\n",
    "system = freud.AABBQuery.from_system((box, points))\n",
    "A_points = system.points[: N // 3]\n",
    "B_points = system.points[N // 3 :]\n",
    "sf = freud.diffraction.StaticStructureFactorDirect(\n",
    "    bins=100, k_max=100, k_min=1, max_k_points=max_k_points\n",
    ")\n",
    "sf.compute((system.box, B_points), query_points=A_points, N_total=N)\n",
    "sf.plot()\n",
    "plt.show()"
   ],
   "outputs": [],
   "metadata": {}
  }
 ],
 "metadata": {
  "orig_nbformat": 4,
  "language_info": {
   "name": "python"
  }
 },
 "nbformat": 4,
 "nbformat_minor": 2
}