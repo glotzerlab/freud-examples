{
 "cells": [
  {
   "cell_type": "markdown",
   "source": [
    "freud.diffraction.StaticStructureFactorDirect\n",
    "\n",
    "freud.diffraction.StaticStructureFactorDebye\n",
    "\n",
    "Static Structure Factor\n",
    "\n",
    "the `freud.diffraction` module provides the tools to calculate static structure factor S(q) [link to wiki?] which can be used to characterise structure of crystals, liquids or amorphous phases. In this notebook we will show how to calculate static structure factor of Lennard Jones liquid obtained from basic HOOMDv3 example [link to hoomd md]. We shall use both the \"direct\" method and the Debye scattering formula. The \"direct\" method calculates the static structure factor by constructing a k-space grid and applying the formula for S(q) to update the histograms on the k-space grid. The histograms are then integrated to give q-scalar dependence. Debye scattering formula on the other hand integrates out the orientations prior to histogram binning and thus provides a much faster algorithm giving worse results at low-k values then the \"direct\" method."
   ],
   "metadata": {}
  },
  {
   "cell_type": "markdown",
   "source": [
    "Take formula/text from Andrew's other two notebooks. Below is copypasted code + more"
   ],
   "metadata": {}
  },
  {
   "cell_type": "code",
   "execution_count": null,
   "source": [
    "import freud\n",
    "# Read in the simulation data\n",
    "import gsd.hoomd\n",
    "\n",
    "traj = gsd.hoomd.open(\"../data/LJsampletraj.gsd\", \"rb\")\n",
    "import freud\n",
    "import matplotlib.pyplot as plt\n",
    "\n",
    "sfdirect = freud.diffraction.StaticStructureFactorDirect(bins=200, k_max=25, k_min=1)\n",
    "\n",
    "sfdebye = freud.diffraction.StaticStructureFactorDebye(bins=200, k_max=25, k_min=1)\n",
    "\n",
    "sfdebyeNoPBC = freud.diffraction.StaticStructureFactorDebye(bins=200, k_max=25, k_min=1)\n",
    "\n",
    "# Accumulate S(q) over the entire trajectory\n",
    "for frame in traj:\n",
    "    box = frame.configuration.box\n",
    "    points = frame.particles.position\n",
    "    sfdirect.compute((box, points),reset=False)\n",
    "    sfdebye.compute((box, points),reset=False)\n",
    "    NoPBCbox=box\n",
    "    NoPBCbox.PBC=False\n",
    "    sfdebyeNoPBC.compute((NoPBCbox, points),reset=False)\n",
    "\n",
    "# create legend stuff\n",
    "plt.plot(sfdirect.bin_centers,sfdirect.S_k,label='direct')\n",
    "plt.plot(sfdebyeNoPBC.bin_centers,sfdebyeNoPBC.S_k,label='debye no PBC')\n",
    "plt.plot(sfdebye.bin_centers,sfdebye.S_k,label='debye with PBC')\n",
    "plt.legend()\n",
    "plt.show()"
   ],
   "outputs": [],
   "metadata": {}
  }
 ],
 "metadata": {
  "orig_nbformat": 4,
  "language_info": {
   "name": "python"
  }
 },
 "nbformat": 4,
 "nbformat_minor": 2
}