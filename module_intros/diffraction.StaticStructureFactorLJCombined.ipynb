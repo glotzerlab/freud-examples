{
 "cells": [
  {
   "cell_type": "markdown",
   "metadata": {},
   "source": [
    "# Static Structure Factor\n",
    "\n",
    "The `freud.diffraction` module provides two methods for calculating a one-dimensional [static structure factor](https://en.wikipedia.org/wiki/Structure_factor) S(q) which can be used to characterise structure of crystals, liquids or amorphous phases.\n",
    "\n",
    "Freud implements both a \"direct\" $S(q)$ method, which operates on a k-space histogram, and a method based on the Debye scattering formula, which provides a much faster algorithm but gives worse results than the \"direct\" method at low-k values.\n",
    "\n",
    "\n",
    "The examples shown below use points that were generated from a HOOMD-blue simulation of a 1000-particle system subject to the Lennard-Jones potential. For a tutorial of how to run such a simulation, see 00-Introducing-HOOMD-blue in Glotzerlab's [hoomd-examples repository](https://github.com/glotzerlab/hoomd-examples)."
   ]
  },
  {
   "cell_type": "markdown",
   "metadata": {},
   "source": [
    "## freud.diffraction.StaticStructureFactorDebye\n",
    "\n",
    "The `freud.diffraction.StaticStructureFactorDebye` class computes a one-dimensional [static structure factor](https://en.wikipedia.org/wiki/Structure_factor) for a set of $N$ points, based on the Debye scattering equation:\n",
    "\n",
    "$$ S(\\mathbf{q}) = {\\frac{1}{N}} \\sum_{j=1}^{N}\\sum_{k=1}^{N}{\\frac{\\sin(qr_{jk})}{qr_{jk}}}$$"
   ]
  },
  {
   "cell_type": "markdown",
   "metadata": {},
   "source": [
    "## freud.diffraction.StaticStructureFactorDirect\n",
    "\n",
    "The `freud.diffraction.StaticStructureFactorDirect` class computes a one-dimensional [static structure factor](https://en.wikipedia.org/wiki/Structure_factor) for a set of N points:\n",
    "\n",
    "$$S(\\mathbf{q}) = {\\frac{1}{N}}\\sum_{j=1}^{N}\\sum_{k=1}^{N}\\mathrm{e}^{-i\\mathbf{q}\\cdot(\\mathbf{R}_{j} - \\mathbf{R}_{k})}$$\n",
    "\n",
    "The points used here were generated from a HOOMD-blue simulation of a 1000-particle system subject to the Lennard-Jones potential. For a tutorial of how to run such a simulation, see 00-Introducing-HOOMD-blue in Glotzerlab's [hoomd-examples repository](https://github.com/glotzerlab/hoomd-examples)."
   ]
  },
  {
   "cell_type": "code",
   "execution_count": null,
   "metadata": {},
   "outputs": [],
   "source": [
    "import freud\n",
    "\n",
    "# Read in the simulation data\n",
    "import gsd.hoomd\n",
    "\n",
    "traj = gsd.hoomd.open(\"../data/LJsampletraj.gsd\", \"rb\")\n",
    "import freud\n",
    "import matplotlib.pyplot as plt\n",
    "\n",
    "sfdirect = freud.diffraction.StaticStructureFactorDirect(bins=200, k_max=25, k_min=1)\n",
    "\n",
    "sfdebye = freud.diffraction.StaticStructureFactorDebye(bins=200, k_max=25, k_min=1)\n",
    "\n",
    "sfdebyeNoPBC = freud.diffraction.StaticStructureFactorDebye(bins=200, k_max=25, k_min=1)\n",
    "\n",
    "# Accumulate S(q) over the entire trajectory\n",
    "for frame in traj:\n",
    "    box = frame.configuration.box\n",
    "    points = frame.particles.position\n",
    "    sfdirect.compute((box, points), reset=False)\n",
    "    sfdebye.compute((box, points), reset=False)\n",
    "    NoPBCbox = box\n",
    "    NoPBCbox.PBC = False\n",
    "    sfdebyeNoPBC.compute((NoPBCbox, points), reset=False)\n",
    "\n",
    "# create legend stuff\n",
    "plt.plot(sfdirect.bin_centers, sfdirect.S_k, label=\"direct\")\n",
    "plt.plot(sfdebyeNoPBC.bin_centers, sfdebyeNoPBC.S_k, label=\"debye no PBC\")\n",
    "plt.plot(sfdebye.bin_centers, sfdebye.S_k, label=\"debye with PBC\")\n",
    "plt.legend()\n",
    "plt.show()"
   ]
  },
  {
   "cell_type": "markdown",
   "metadata": {},
   "source": [
    "Both `freud.diffraction.StaticStructureFactorDirect` and `freud.diffraction.StaticStructureFactorDebye` classes support calculation of partial structure factors according to Faber-Ziman decomposition [link to docs??]. In this example we randomly split the system in two parts, one containing a third of the system and the other one containing the other two thirds of the system. The calculation of the partials requires the usage of nquery and N_tot to be sucessfull:"
   ]
  },
  {
   "cell_type": "markdown",
   "metadata": {},
   "source": [
    "# freud.diffraction.StaticStructureFactorDirect\n",
    "\n",
    "The `freud.diffraction.StaticStructureFactorDirect` class computes a one-dimensional [static structure factor](https://en.wikipedia.org/wiki/Structure_factor) $S(k)$ of a set of points. For an excellent introduction to the theory of scattering and $S(k)$, please refer to the documentation of the [dynasor package](https://dynasor.materialsmodeling.org/), which performs a number of calculations related to scattering. We have re-implemented the core method of static structure factor calculation from dynasor in **freud** with some additional performance optimizations in parallelized C++ code, as well as an interface to compute $S(k)$ that aligns with the APIs and conventions of the **freud** analysis library."
   ]
  },
  {
   "cell_type": "code",
   "execution_count": null,
   "metadata": {},
   "outputs": [],
   "source": [
    "L = 10\n",
    "N = 10000\n",
    "max_k_points = 200000\n",
    "box, points = freud.data.make_random_system(L, N)\n",
    "system = freud.AABBQuery.from_system((box, points))\n",
    "A_points = system.points[: N // 3]\n",
    "B_points = system.points[N // 3 :]\n",
    "sf = freud.diffraction.StaticStructureFactorDirect(\n",
    "    bins=100, k_max=100, k_min=1, max_k_points=max_k_points\n",
    ")\n",
    "sf.compute((system.box, B_points), query_points=A_points, N_total=N)\n",
    "sf.plot()\n",
    "plt.show()"
   ]
  }
 ],
 "metadata": {
  "kernelspec": {
   "display_name": "Python 3",
   "language": "python",
   "name": "python3"
  },
  "language_info": {
   "codemirror_mode": {
    "name": "ipython",
    "version": 3
   },
   "file_extension": ".py",
   "mimetype": "text/x-python",
   "name": "python",
   "nbconvert_exporter": "python",
   "pygments_lexer": "ipython3",
   "version": "3.9.0"
  }
 },
 "nbformat": 4,
 "nbformat_minor": 4
}
